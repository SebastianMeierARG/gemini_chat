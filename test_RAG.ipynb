{
 "cells": [
  {
   "cell_type": "markdown",
   "metadata": {},
   "source": [
    "### Encoding and loading pdfs"
   ]
  },
  {
   "cell_type": "code",
   "execution_count": 28,
   "metadata": {},
   "outputs": [],
   "source": [
    "import os\n",
    "import fitz  # PyMuPDF for PDF extraction\n",
    "import google.generativeai as genai\n",
    "import numpy as np\n",
    "import faiss  # Vector search\n",
    "from sentence_transformers import SentenceTransformer\n",
    "from dotenv import load_dotenv\n",
    "\n",
    "# Load API Key from .env file\n",
    "load_dotenv()\n",
    "genai.configure(api_key=os.getenv(\"GEMINI_API_KEY\"))\n",
    "\n",
    "# ✅ Initialize SentenceTransformer model for embeddings\n",
    "embedder = SentenceTransformer(\"all-MiniLM-L6-v2\")\n",
    "\n",
    "# ✅ Extract text from PDFs\n",
    "def extract_text_from_pdf(pdf_path):\n",
    "    doc = fitz.open(pdf_path)\n",
    "    text = \"\"\n",
    "    for page in doc:\n",
    "        text += page.get_text()\n",
    "    return text\n",
    "\n",
    "# ✅ Load all PDFs from the folder\n",
    "pdf_folder = \"./pdf_files/\"\n",
    "documents = []\n",
    "file_names = []\n",
    "\n",
    "for file in os.listdir(pdf_folder):\n",
    "    if file.endswith(\".pdf\"):\n",
    "        file_path = os.path.join(pdf_folder, file)\n",
    "        text = extract_text_from_pdf(file_path)\n",
    "        documents.append(text)\n",
    "        file_names.append(file)  # Store file names for reference\n",
    "\n",
    "# ✅ Convert all document texts into embeddings\n",
    "doc_embeddings = embedder.encode(documents)\n",
    "dimension = doc_embeddings.shape[1]\n",
    "\n",
    "\n"
   ]
  },
  {
   "cell_type": "code",
   "execution_count": 29,
   "metadata": {},
   "outputs": [
    {
     "data": {
      "text/plain": [
       "6"
      ]
     },
     "execution_count": 29,
     "metadata": {},
     "output_type": "execute_result"
    }
   ],
   "source": [
    "len(documents)"
   ]
  },
  {
   "cell_type": "code",
   "execution_count": 30,
   "metadata": {},
   "outputs": [
    {
     "name": "stdout",
     "output_type": "stream",
     "text": [
      "Sebastian works at Datua.\n",
      "\n"
     ]
    }
   ],
   "source": [
    "# ✅ Create FAISS index for fast retrieval\n",
    "index = faiss.IndexFlatL2(dimension)\n",
    "index.add(np.array(doc_embeddings))\n",
    "\n",
    "# ✅ Retrieve relevant text from stored PDFs\n",
    "def retrieve_relevant_text(query):\n",
    "    query_embedding = embedder.encode([query])\n",
    "    distances, indices = index.search(query_embedding, k=3)  # Top 1 match\n",
    "    best_match = documents[indices[0][0]]  # Get most relevant text\n",
    "    return best_match[:1000]  # Return only the first 1000 characters\n",
    "\n",
    "# ✅ Initialize Gemini model\n",
    "model = genai.GenerativeModel(\"gemini-1.5-pro\")\n",
    "\n",
    "def query_gemini(prompt):\n",
    "    \"\"\"Retrieve relevant text and generate a Gemini response.\"\"\"\n",
    "    retrieved_text = retrieve_relevant_text(prompt)  # Retrieve relevant info\n",
    "    full_prompt = f\"Context: {retrieved_text}\\nUser question: {prompt}\"\n",
    "    \n",
    "    response = model.generate_content(full_prompt)\n",
    "    return response.text\n",
    "\n",
    "# ✅ Example Query\n",
    "response = query_gemini(\"Where does Sebastian works?\")\n",
    "print(response)"
   ]
  },
  {
   "cell_type": "code",
   "execution_count": 32,
   "metadata": {},
   "outputs": [
    {
     "name": "stdout",
     "output_type": "stream",
     "text": [
      "Bilbao, Spain.\n",
      "\n"
     ]
    }
   ],
   "source": [
    "response = query_gemini(\"Where does he lives?\")\n",
    "print(response)"
   ]
  },
  {
   "cell_type": "code",
   "execution_count": null,
   "metadata": {},
   "outputs": [],
   "source": []
  },
  {
   "cell_type": "code",
   "execution_count": null,
   "metadata": {},
   "outputs": [],
   "source": []
  },
  {
   "cell_type": "markdown",
   "metadata": {},
   "source": []
  }
 ],
 "metadata": {
  "kernelspec": {
   "display_name": ".venv",
   "language": "python",
   "name": "python3"
  },
  "language_info": {
   "codemirror_mode": {
    "name": "ipython",
    "version": 3
   },
   "file_extension": ".py",
   "mimetype": "text/x-python",
   "name": "python",
   "nbconvert_exporter": "python",
   "pygments_lexer": "ipython3",
   "version": "3.11.9"
  }
 },
 "nbformat": 4,
 "nbformat_minor": 2
}
